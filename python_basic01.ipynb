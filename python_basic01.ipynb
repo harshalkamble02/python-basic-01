{
  "nbformat": 4,
  "nbformat_minor": 0,
  "metadata": {
    "colab": {
      "provenance": []
    },
    "kernelspec": {
      "name": "python3",
      "display_name": "Python 3"
    },
    "language_info": {
      "name": "python"
    }
  },
  "cells": [
    {
      "cell_type": "markdown",
      "source": [
        "1 What is Python, and why is it popular?\n",
        "  - Python is a high-level, interpreted programming language that is\n",
        "widely used in many areas of software development. It was created by Guido van Rossum and released in 1991. Python is known for its clean and readable syntax, which makes it very easy to learn and write, especially for beginners.\n",
        "\n",
        "Python is popular because it is simple and powerful. Its syntax is very close to plain English, so new programmers can pick it up quickly. It also has a large standard library that allows you to do many tasks without writing extra code. Python is cross-platform, meaning it works on Windows, macOS, Linux, and more.\n",
        "\n",
        "Another reason for its popularity is the large and active community. There are countless tutorials, documentation, and online forums that make it easier to learn and solve problems. Python is also extremely versatile — it’s used in web development, data analysis, machine learning, automation, software testing, and even game development.\n",
        "\n",
        "Thanks to powerful libraries like NumPy, Pandas, Django, Flask, and TensorFlow, developers can build complex applications quickly and efficiently. That’s why Python is one of the most in-demand and widely-used programming languages today.\n",
        "\n",
        "2 What is an interpreter in Python ?\n",
        " - In Python, an interpreter is a program that reads and executes code\n",
        " line by line. It converts the human-readable Python code into machine code that the computer can understand and run.\n",
        "\n",
        "When you write Python code (e.g., print(\"Hello\")), the interpreter processes it one statement at a time and immediately performs the action. This is different from compiled languages (like C or Java), where the entire code is first converted into machine code (a compiled file) before execution.\n",
        "\n",
        "Key points about the Python interpreter:\n",
        "It executes the code line by line.\n",
        "\n",
        "It makes debugging easier because errors are shown immediately after the problematic line.\n",
        "\n",
        "Python files (.py) are run using the interpreter (python filename.py).\n",
        "\n",
        "Examples of Python interpreters include CPython (default), PyPy, Jython, and IronPython.\n",
        "\n",
        "3  What are pre-defined keywords in Python?\n",
        "  - Pre-defined keywords in Python are reserved words that have special meanings and are part of the syntax of the language. You cannot use them as variable names, function names, or identifiers because Python uses them to understand the structure and flow of the program.\n",
        "\n",
        "Examples of pre-defined keywords:\n",
        "if, else, elif – for conditional statements\n",
        "\n",
        "for, while, break, continue – for loops\n",
        "\n",
        "def, return – for functions\n",
        "\n",
        "class, pass, self – for classes and object-oriented programming\n",
        "\n",
        "import, from, as – for importing modules\n",
        "\n",
        "True, False, None – special constant values\n",
        "\n",
        "and, or, not, is, in – logical and membership operators\n",
        "\n",
        "try, except, finally, raise – for exception handling\n",
        "\n",
        "Important:\n",
        "Python keywords are case-sensitive (True is valid, but true is not).\n",
        "\n",
        "4  Can keywords be used as variable names ?\n",
        " - No, keywords cannot be used as variable names in Python.\n",
        "\n",
        "Python keywords are reserved words that have special meaning in the language, such as controlling the flow of the program (if, for, while, etc.) or defining structure (def, class, etc.). If you try to use a keyword as a variable name, Python will give you a syntax error.\n",
        "\n",
        "5 What is mutability in Python ?\n",
        " - Mutability in Python refers to whether or not an object's value can be changed after it is created.\n",
        "\n",
        "There are two types of objects in Python based on mutability:\n",
        "\n",
        "1. Mutable Objects\n",
        "These can be changed after creation.\n",
        "Examples:\n",
        "\n",
        "list\n",
        "\n",
        "dict\n",
        "\n",
        "set\n",
        "2. Immutable Objects\n",
        "These cannot be changed after creation. If you try to change them, Python creates a new object.\n",
        "\n",
        "Examples:\n",
        "\n",
        "int\n",
        "\n",
        "float\n",
        "\n",
        "str\n",
        "\n",
        "tuple\n",
        "\n",
        "bool\n",
        "\n",
        "6  Why are lists mutable, but tuples are immutable\n",
        " -  Why are lists mutable?\n",
        "Lists in Python are designed to store a collection of items that can change.\n",
        "\n",
        "You can add, remove, or update elements in a list.\n",
        "\n",
        "Internally, lists use a flexible memory structure that allows changes without creating a new object.\n",
        "Why are tuples immutable?\n",
        "Tuples are designed to be fixed collections of items.\n",
        "\n",
        "- Once a tuple is created, you cannot change its contents.\n",
        "\n",
        "Python does this to protect the data from accidental changes, especially when tuples are used as keys in dictionaries or in sets (which require elements to be unchangeable and hashable).\n",
        "\n",
        "7 What is the difference between “==” and “is” operators in Python ?\n",
        " - == checks value equality – whether two objects have the same value.\n",
        "\n",
        " - is checks identity – whether two variables refer to the same object in memory.\n",
        "\n",
        "8 What are logical operators in Python?\n",
        " - Logical operators are used to combine conditional statements:\n",
        "\n",
        "and: Returns True if both conditions are True\n",
        "\n",
        "or: Returns True if at least one condition is True\n",
        "\n",
        "not: Reverses the boolean value\n",
        "\n",
        "9  What are logical operators in Python?\n",
        " - Type casting means converting one data type into another.\n",
        "\n",
        "10  What is the difference between implicit and explicit type casting?\n",
        "  - Implicit casting is done automatically by Python.\n",
        "  - Explicit casting is done manually using functions like int(), float(), str().\n",
        "\n",
        "11 What is the purpose of conditional statements in Python?\n",
        "- Conditional statements let your program make decisions based on conditions. They control the flow of the program using if, elif, and else.\n",
        "\n",
        "12 How does the elif statement work?\n",
        " - elif stands for \"else if\". It's used when you have multiple conditions to check in an if-else structure.\n",
        "\n",
        "13 What is the difference between for and while loops?\n",
        "  - for loop: Used when you know how many times you want to loop (e.g., looping through a list or range).\n",
        "- while loop: Used when you don’t know in advance how many times to loop; it continues until a condition becomes False.\n",
        "\n",
        "14 Describe a scenario where a while loop is more suitable than a for loop.\n",
        " - Use a while loop when the number of iterations is not known ahead of time.\n",
        " Example: User login attempts"
      ],
      "metadata": {
        "id": "qZuU-NeCa90J"
      }
    },
    {
      "cell_type": "code",
      "execution_count": null,
      "metadata": {
        "id": "v2V2gluRZ3c7"
      },
      "outputs": [],
      "source": [
        " # 3 What are pre-defined keywords in Python?\n",
        " \"\"\"\n",
        " The exact list of keywords can be checked using this code:\n",
        " \"\"\"\n",
        " import keyword\n",
        "print(keyword.kwlist)\n",
        "\n"
      ]
    },
    {
      "cell_type": "code",
      "source": [
        "# 4 Can keywords be used as variable names ?\n",
        " if = 10 # This will cause a SyntaxError\n",
        " \"\"\"\n",
        " To avoid this, always choose variable names that are not on the list of Python keywords.\n",
        "If you're ever unsure, you can check the list of keywords using:\n",
        " \"\"\"\n",
        " import keyword\n",
        "print(keyword.kwlist)\n",
        "#This will print all reserved keywords in your Python version"
      ],
      "metadata": {
        "id": "NQR3XlQYdvEU"
      },
      "execution_count": null,
      "outputs": []
    },
    {
      "cell_type": "code",
      "source": [
        "# 5 What is mutability in Python ?\n",
        "# 1 Mutable Objects\n",
        "my_list = [1, 2, 3]\n",
        "my_list[0] = 10  # ✅ This is allowed\n",
        "print(my_list)  # Output: [10, 2, 3]\n",
        "\n",
        "#2. Immutable Objects\n",
        "name = \"Alice\"\n",
        "name[0] = \"M\"  #  This will cause an error\n",
        "\n",
        "# But this is valid:\n",
        "name = \"Mike\"  # Python creates a new string object\n"
      ],
      "metadata": {
        "id": "uI2TrJ4Fe_ha"
      },
      "execution_count": null,
      "outputs": []
    },
    {
      "cell_type": "code",
      "source": [
        "# 6 Why are lists mutable, but tuples are immutable\n",
        "my_list = [1, 2, 3]\n",
        "my_list.append(4)  # ✅ adds 4 to the list\n",
        "my_list[0] = 10    # ✅ changes the first element\n",
        "\"\"\"So, lists are mutable because they are meant to be dynamic and flexible — useful when you want to modify data.\n",
        "\"\"\"\n",
        "my_tuple = (1, 2, 3)\n",
        "my_tuple[0] = 10  # his will raise a TypeError\n",
        "\"\"\"\n",
        "So, tuples are immutable because they are meant to be stable and secure, often used for data that shouldn’t change.\n",
        "\"\"\""
      ],
      "metadata": {
        "id": "TFAmNtXCgLyA"
      },
      "execution_count": null,
      "outputs": []
    },
    {
      "cell_type": "code",
      "source": [
        "#7 What is the difference between “==” and “is” operators in Python ?\n",
        "a = [1, 2, 3]\n",
        "b = [1, 2, 3]\n",
        "print(a == b)  # True (values are equal)\n",
        "print(a is b)  # False (different objects in memory)\n"
      ],
      "metadata": {
        "id": "34dCXFPuh_Vs"
      },
      "execution_count": null,
      "outputs": []
    },
    {
      "cell_type": "code",
      "source": [
        "#8 What are logical operators in Python?\n",
        "a = 10\n",
        "print(a > 5 and a < 15)  # True\n",
        "print(a > 5 or a > 20)   # True\n",
        "print(not a > 5)         # False\n"
      ],
      "metadata": {
        "id": "JUFk3SAlia94"
      },
      "execution_count": null,
      "outputs": []
    },
    {
      "cell_type": "code",
      "source": [
        "#9. What is type casting in Python?\n",
        "x = \"10\"\n",
        "y = int(x)  # Converts string to integer\n",
        "print(y + 5)  # Output: 15\n"
      ],
      "metadata": {
        "id": "yDQ9_m3Qi30S"
      },
      "execution_count": null,
      "outputs": []
    },
    {
      "cell_type": "code",
      "source": [
        "#10 What is the difference between implicit and explicit type casting?\n",
        "\"\"\"Implicit casting is done automatically by Python\"\"\"\n",
        "a = 5      # int\n",
        "b = 2.0    # float\n",
        "c = a + b  # Python converts int to float\n",
        "\"\"\"Explicit casting is done manually using functions like int(), float(), str().\"\"\"\n",
        "x = \"100\"\n",
        "y = int(x)  # converting string to int manually\n"
      ],
      "metadata": {
        "id": "W8TCFLP3jU3W"
      },
      "execution_count": null,
      "outputs": []
    },
    {
      "cell_type": "code",
      "source": [
        "# 11 What is the purpose of conditional statements in Python?\n",
        "age = 18\n",
        "if age >= 18:\n",
        "    print(\"Adult\")\n",
        "else:\n",
        "    print(\"Minor\")\n"
      ],
      "metadata": {
        "id": "28DdPb-ukLK8"
      },
      "execution_count": null,
      "outputs": []
    },
    {
      "cell_type": "code",
      "source": [
        "# 12 How does the elif statement work?\n",
        "x = 10\n",
        "if x < 5:\n",
        "    print(\"Less than 5\")\n",
        "elif x < 15:\n",
        "    print(\"Between 5 and 15\")  # ✅ This will run\n",
        "else:\n",
        "    print(\"15 or more\")\n"
      ],
      "metadata": {
        "id": "zaV8Q6Pnk__6"
      },
      "execution_count": null,
      "outputs": []
    },
    {
      "cell_type": "code",
      "source": [
        "#13 What is the difference between for and while loops?\n",
        "# for loop\n",
        "for i in range(3):\n",
        "    print(i)\n",
        "\n",
        "# while loop\n",
        "i = 0\n",
        "while i < 3:\n",
        "    print(i)\n",
        "    i += 1\n"
      ],
      "metadata": {
        "id": "iUPNyM_AlhyV"
      },
      "execution_count": null,
      "outputs": []
    },
    {
      "cell_type": "code",
      "source": [
        "# 14 Describe a scenario where a while loop is more suitable than a for loop.\n",
        "password = \"\"\n",
        "while password != \"secret\":\n",
        "    password = input(\"Enter password: \")\n",
        "print(\"Access granted\")\n",
        "\"\"\"the loop continues until the correct password is entered — we don't know how many tries it will take.\"\"\"\n"
      ],
      "metadata": {
        "id": "kQMTBAKUmAXj"
      },
      "execution_count": null,
      "outputs": []
    }
  ]
}